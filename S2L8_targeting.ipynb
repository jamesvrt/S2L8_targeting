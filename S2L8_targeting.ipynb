{
 "cells": [
  {
   "cell_type": "markdown",
   "metadata": {},
   "source": [
    "# Sentinel 2, Landsat 8, PRISMA coincident targeting\n",
    "\n",
    "This notebook uses the S2 and L8 trajectories to determine the times at which images will be taken of targets."
   ]
  },
  {
   "cell_type": "markdown",
   "metadata": {},
   "source": [
    "## Targets"
   ]
  },
  {
   "cell_type": "code",
   "execution_count": 64,
   "metadata": {},
   "outputs": [],
   "source": [
    "import pandas as pd\n",
    "import geopandas as gpd\n",
    "import fiona\n",
    "import matplotlib.pyplot as plt \n",
    "import matplotlib.dates as mdates\n",
    "import shapely\n",
    "from datetime import timedelta\n",
    "import datetime as dt\n",
    "import itertools as it\n",
    "import numpy as np\n",
    "\n",
    "gpd.io.file.fiona.drvsupport.supported_drivers['LIBKML'] = 'rw' # enable KML support which is disabled by default"
   ]
  },
  {
   "cell_type": "code",
   "execution_count": 5,
   "metadata": {},
   "outputs": [],
   "source": [
    "# read target data\n",
    "# polygons\n",
    "gdf_targets = gpd.read_file('targets/rgi60_targets.shp')\n",
    "# centre lat-lons & names\n",
    "df_targets_lls = pd.read_excel('targets/target_coordinates.xlsx', \n",
    "                               engine='openpyxl')\n",
    "# convert this to a geodataframe\n",
    "df_targets_lls['geometry'] = df_targets_lls.apply(lambda row: shapely.geometry.Point(row.lon, row.lat), axis=1)\n",
    "gdf_targets_lls = gpd.GeoDataFrame(df_targets_lls, crs='EPSG:4326')"
   ]
  },
  {
   "cell_type": "code",
   "execution_count": 6,
   "metadata": {},
   "outputs": [
    {
     "data": {
      "text/html": [
       "<div>\n",
       "<style scoped>\n",
       "    .dataframe tbody tr th:only-of-type {\n",
       "        vertical-align: middle;\n",
       "    }\n",
       "\n",
       "    .dataframe tbody tr th {\n",
       "        vertical-align: top;\n",
       "    }\n",
       "\n",
       "    .dataframe thead th {\n",
       "        text-align: right;\n",
       "    }\n",
       "</style>\n",
       "<table border=\"1\" class=\"dataframe\">\n",
       "  <thead>\n",
       "    <tr style=\"text-align: right;\">\n",
       "      <th></th>\n",
       "      <th>Name</th>\n",
       "      <th>lon</th>\n",
       "      <th>lat</th>\n",
       "      <th>strip length [km]</th>\n",
       "      <th>Bbox</th>\n",
       "      <th>Unnamed: 5</th>\n",
       "      <th>Unnamed: 6</th>\n",
       "      <th>Unnamed: 7</th>\n",
       "      <th>geometry</th>\n",
       "    </tr>\n",
       "  </thead>\n",
       "  <tbody>\n",
       "    <tr>\n",
       "      <th>0</th>\n",
       "      <td>Peyto</td>\n",
       "      <td>-116.550000</td>\n",
       "      <td>51.650000</td>\n",
       "      <td>30</td>\n",
       "      <td>NaN</td>\n",
       "      <td>NaN</td>\n",
       "      <td>NaN</td>\n",
       "      <td>NaN</td>\n",
       "      <td>POINT (-116.55000 51.65000)</td>\n",
       "    </tr>\n",
       "    <tr>\n",
       "      <th>1</th>\n",
       "      <td>Columbia</td>\n",
       "      <td>-117.350000</td>\n",
       "      <td>52.152000</td>\n",
       "      <td>30</td>\n",
       "      <td>52.27587</td>\n",
       "      <td>-117.56945</td>\n",
       "      <td>52.01726</td>\n",
       "      <td>-117.14901</td>\n",
       "      <td>POINT (-117.35000 52.15200)</td>\n",
       "    </tr>\n",
       "    <tr>\n",
       "      <th>2</th>\n",
       "      <td>Klinaklini</td>\n",
       "      <td>-125.970000</td>\n",
       "      <td>51.500000</td>\n",
       "      <td>60</td>\n",
       "      <td>51.65126</td>\n",
       "      <td>-126.18150</td>\n",
       "      <td>51.31000</td>\n",
       "      <td>-125.74450</td>\n",
       "      <td>POINT (-125.97000 51.50000)</td>\n",
       "    </tr>\n",
       "    <tr>\n",
       "      <th>3</th>\n",
       "      <td>Place</td>\n",
       "      <td>-122.603491</td>\n",
       "      <td>50.418547</td>\n",
       "      <td>30</td>\n",
       "      <td>NaN</td>\n",
       "      <td>NaN</td>\n",
       "      <td>NaN</td>\n",
       "      <td>NaN</td>\n",
       "      <td>POINT (-122.60349 50.41855)</td>\n",
       "    </tr>\n",
       "  </tbody>\n",
       "</table>\n",
       "</div>"
      ],
      "text/plain": [
       "         Name         lon        lat  strip length [km]      Bbox  Unnamed: 5  \\\n",
       "0       Peyto -116.550000  51.650000                 30       NaN         NaN   \n",
       "1    Columbia -117.350000  52.152000                 30  52.27587  -117.56945   \n",
       "2  Klinaklini -125.970000  51.500000                 60  51.65126  -126.18150   \n",
       "3       Place -122.603491  50.418547                 30       NaN         NaN   \n",
       "\n",
       "   Unnamed: 6  Unnamed: 7                     geometry  \n",
       "0         NaN         NaN  POINT (-116.55000 51.65000)  \n",
       "1    52.01726  -117.14901  POINT (-117.35000 52.15200)  \n",
       "2    51.31000  -125.74450  POINT (-125.97000 51.50000)  \n",
       "3         NaN         NaN  POINT (-122.60349 50.41855)  "
      ]
     },
     "execution_count": 6,
     "metadata": {},
     "output_type": "execute_result"
    }
   ],
   "source": [
    "gdf_targets_lls"
   ]
  },
  {
   "cell_type": "code",
   "execution_count": 8,
   "metadata": {},
   "outputs": [
    {
     "data": {
      "text/html": [
       "<div>\n",
       "<style scoped>\n",
       "    .dataframe tbody tr th:only-of-type {\n",
       "        vertical-align: middle;\n",
       "    }\n",
       "\n",
       "    .dataframe tbody tr th {\n",
       "        vertical-align: top;\n",
       "    }\n",
       "\n",
       "    .dataframe thead th {\n",
       "        text-align: right;\n",
       "    }\n",
       "</style>\n",
       "<table border=\"1\" class=\"dataframe\">\n",
       "  <thead>\n",
       "    <tr style=\"text-align: right;\">\n",
       "      <th></th>\n",
       "      <th>geometry</th>\n",
       "      <th>Name</th>\n",
       "      <th>lon</th>\n",
       "      <th>lat</th>\n",
       "      <th>strip length [km]</th>\n",
       "      <th>Bbox</th>\n",
       "      <th>Unnamed: 5</th>\n",
       "      <th>Unnamed: 6</th>\n",
       "      <th>Unnamed: 7</th>\n",
       "    </tr>\n",
       "  </thead>\n",
       "  <tbody>\n",
       "    <tr>\n",
       "      <th>0</th>\n",
       "      <td>POLYGON ((-116.62462 51.66484, -116.62458 51.6...</td>\n",
       "      <td>Peyto</td>\n",
       "      <td>-116.550000</td>\n",
       "      <td>51.650000</td>\n",
       "      <td>30</td>\n",
       "      <td>NaN</td>\n",
       "      <td>NaN</td>\n",
       "      <td>NaN</td>\n",
       "      <td>NaN</td>\n",
       "    </tr>\n",
       "    <tr>\n",
       "      <th>1</th>\n",
       "      <td>POLYGON ((-117.59363 52.15214, -117.59395 52.1...</td>\n",
       "      <td>Columbia</td>\n",
       "      <td>-117.350000</td>\n",
       "      <td>52.152000</td>\n",
       "      <td>30</td>\n",
       "      <td>52.27587</td>\n",
       "      <td>-117.56945</td>\n",
       "      <td>52.01726</td>\n",
       "      <td>-117.14901</td>\n",
       "    </tr>\n",
       "    <tr>\n",
       "      <th>2</th>\n",
       "      <td>POLYGON ((-122.66700 50.42381, -122.66641 50.4...</td>\n",
       "      <td>Place</td>\n",
       "      <td>-122.603491</td>\n",
       "      <td>50.418547</td>\n",
       "      <td>30</td>\n",
       "      <td>NaN</td>\n",
       "      <td>NaN</td>\n",
       "      <td>NaN</td>\n",
       "      <td>NaN</td>\n",
       "    </tr>\n",
       "    <tr>\n",
       "      <th>3</th>\n",
       "      <td>POLYGON ((-126.19740 51.44455, -126.19731 51.4...</td>\n",
       "      <td>Klinaklini</td>\n",
       "      <td>-125.970000</td>\n",
       "      <td>51.500000</td>\n",
       "      <td>60</td>\n",
       "      <td>51.65126</td>\n",
       "      <td>-126.18150</td>\n",
       "      <td>51.31000</td>\n",
       "      <td>-125.74450</td>\n",
       "    </tr>\n",
       "  </tbody>\n",
       "</table>\n",
       "</div>"
      ],
      "text/plain": [
       "                                            geometry        Name         lon  \\\n",
       "0  POLYGON ((-116.62462 51.66484, -116.62458 51.6...       Peyto -116.550000   \n",
       "1  POLYGON ((-117.59363 52.15214, -117.59395 52.1...    Columbia -117.350000   \n",
       "2  POLYGON ((-122.66700 50.42381, -122.66641 50.4...       Place -122.603491   \n",
       "3  POLYGON ((-126.19740 51.44455, -126.19731 51.4...  Klinaklini -125.970000   \n",
       "\n",
       "         lat  strip length [km]      Bbox  Unnamed: 5  Unnamed: 6  Unnamed: 7  \n",
       "0  51.650000                 30       NaN         NaN         NaN         NaN  \n",
       "1  52.152000                 30  52.27587  -117.56945    52.01726  -117.14901  \n",
       "2  50.418547                 30       NaN         NaN         NaN         NaN  \n",
       "3  51.500000                 60  51.65126  -126.18150    51.31000  -125.74450  "
      ]
     },
     "execution_count": 8,
     "metadata": {},
     "output_type": "execute_result"
    }
   ],
   "source": [
    "# some targets are broken up into multiple polygons\n",
    "# merge these\n",
    "targets = (gdf_targets\n",
    "            .set_crs(epsg=4326) # set correct crs\n",
    "            .to_crs(epsg=3005) # to local projection\n",
    "            .buffer(1000) # buffer to overlap close polys\n",
    "            .unary_union # merge overlapping\n",
    "            .buffer(0)) # buffer to remove weird shapes\n",
    "gdf_targets = gpd.GeoDataFrame({'geometry':targets}, crs='EPSG:3005')\n",
    "gdf_targets = gdf_targets.to_crs(epsg=4326)\n",
    "\n",
    "# polygons don't have names, provide these from an xl sheet\n",
    "gdf_targets = gpd.sjoin(gdf_targets, gdf_targets_lls). drop('index_right', axis=1)\n",
    "gdf_targets"
   ]
  },
  {
   "cell_type": "code",
   "execution_count": 9,
   "metadata": {},
   "outputs": [
    {
     "data": {
      "text/plain": [
       "<AxesSubplot:>"
      ]
     },
     "execution_count": 9,
     "metadata": {},
     "output_type": "execute_result"
    },
    {
     "data": {
      "image/png": "[encoded data removed]",
      "text/plain": [
       "<Figure size 1440x1440 with 1 Axes>"
      ]
     },
     "metadata": {
      "needs_background": "light"
     },
     "output_type": "display_data"
    }
   ],
   "source": [
    "# check we've nicely separated the 4 targets\n",
    "plt.figure(figsize=(20,20))\n",
    "gdf_targets.plot(ax=plt.gca(), column=gdf_targets.index.values, cmap='jet')"
   ]
  },
  {
   "cell_type": "markdown",
   "metadata": {},
   "source": [
    "## Sentinel 2\n",
    "\n",
    "Get .kml URLs for recent and near future trajectories for Sentinel 2A and 2B from:\n",
    "\n",
    "https://sentinels.copernicus.eu/web/sentinel/missions/sentinel-2/acquisition-plans"
   ]
  },
  {
   "cell_type": "code",
   "execution_count": 10,
   "metadata": {},
   "outputs": [],
   "source": [
    "s2a_kml_url = 'https://sentinels.copernicus.eu/documents/247904/4584266/Sentinel-2A_MP_ACQ_KML_20210617T120000_20210705T150000.kml'\n",
    "s2b_kml_url = 'https://sentinels.copernicus.eu/documents/247904/4584270/Sentinel-2B_ACQ_MP_KML_20210624T120000_20210712T150000.kml'\n",
    "\n",
    "s2a_kml_fname = s2a_kml_url.split('/')[-1]\n",
    "s2b_kml_fname = s2b_kml_url.split('/')[-1]"
   ]
  },
  {
   "cell_type": "code",
   "execution_count": 11,
   "metadata": {},
   "outputs": [
    {
     "name": "stdout",
     "output_type": "stream",
     "text": [
      "--2021-06-24 09:55:09--  https://sentinels.copernicus.eu/documents/247904/4584266/Sentinel-2A_MP_ACQ_KML_20210617T120000_20210705T150000.kml\n",
      "Resolving sentinels.copernicus.eu (sentinels.copernicus.eu)... 193.105.125.90\n",
      "Connecting to sentinels.copernicus.eu (sentinels.copernicus.eu)|193.105.125.90|:443... connected.\n",
      "HTTP request sent, awaiting response... 200 200\n",
      "Length: 1560442 (1.5M) [application/vnd.google-earth.kml+xml]\n",
      "Saving to: ‘Sentinel-2A_MP_ACQ_KML_20210617T120000_20210705T150000.kml’\n",
      "\n",
      "Sentinel-2A_MP_ACQ_ 100%[===================>]   1.49M   210KB/s    in 13s     \n",
      "\n",
      "2021-06-24 09:55:24 (121 KB/s) - ‘Sentinel-2A_MP_ACQ_KML_20210617T120000_20210705T150000.kml’ saved [1560442/1560442]\n",
      "\n",
      "--2021-06-24 09:55:24--  https://sentinels.copernicus.eu/documents/247904/4584270/Sentinel-2B_ACQ_MP_KML_20210624T120000_20210712T150000.kml\n",
      "Resolving sentinels.copernicus.eu (sentinels.copernicus.eu)... 193.105.125.90\n",
      "Connecting to sentinels.copernicus.eu (sentinels.copernicus.eu)|193.105.125.90|:443... connected.\n",
      "HTTP request sent, awaiting response... 200 200\n",
      "Length: 2171549 (2.1M) [application/vnd.google-earth.kml+xml]\n",
      "Saving to: ‘Sentinel-2B_ACQ_MP_KML_20210624T120000_20210712T150000.kml’\n",
      "\n",
      "Sentinel-2B_ACQ_MP_ 100%[===================>]   2.07M   285KB/s    in 8.2s    \n",
      "\n",
      "2021-06-24 09:55:34 (259 KB/s) - ‘Sentinel-2B_ACQ_MP_KML_20210624T120000_20210712T150000.kml’ saved [2171549/2171549]\n",
      "\n"
     ]
    }
   ],
   "source": [
    "# download S2 recent and upcoming acquisitions\n",
    "!wget $s2a_kml_url\n",
    "!wget $s2b_kml_url"
   ]
  },
  {
   "cell_type": "code",
   "execution_count": 12,
   "metadata": {},
   "outputs": [],
   "source": [
    "# parse the Sentinel 2 planned acquisitions KML file\n",
    "# inspired by\n",
    "# https://gis.stackexchange.com/questions/376301/return-empty-dataframe-when-reading-kml-file-of-sentinel-1-acquisition-segments\n",
    "\n",
    "def parse_kml(fp, satellite_name):\n",
    "    gdf_list = []\n",
    "    for layer in fiona.listlayers(fp):\n",
    "        gdf = gpd.read_file(fp, driver='LIBKML', layer=layer)\n",
    "        gdf_list.append(gdf)\n",
    "        \n",
    "    gdf = gpd.GeoDataFrame(pd.concat(gdf_list, ignore_index=True))\n",
    "    gdf['satellite'] = satellite_name\n",
    "        \n",
    "    return gdf\n",
    "\n",
    "\n",
    "gdf_s2 = pd.concat([parse_kml(s2a_kml_fname, 's2a'), \n",
    "                    parse_kml(s2b_kml_fname, 's2b')])"
   ]
  },
  {
   "cell_type": "code",
   "execution_count": 13,
   "metadata": {},
   "outputs": [
    {
     "data": {
      "text/plain": [
       "18"
      ]
     },
     "execution_count": 13,
     "metadata": {},
     "output_type": "execute_result"
    }
   ],
   "source": [
    "# find acquisitions containing each target\n",
    "gdf_within = gpd.sjoin(gdf_targets, gdf_s2, how='inner', op='within').reset_index()\n",
    "gdf_within = gdf_within.drop_duplicates('index_right')\n",
    "len(gdf_within)"
   ]
  },
  {
   "cell_type": "code",
   "execution_count": 14,
   "metadata": {},
   "outputs": [
    {
     "data": {
      "text/plain": [
       "<AxesSubplot:>"
      ]
     },
     "execution_count": 14,
     "metadata": {},
     "output_type": "execute_result"
    },
    {
     "data": {
      "image/png": "[encoded data removed]",
      "text/plain": [
       "<Figure size 1440x1440 with 1 Axes>"
      ]
     },
     "metadata": {
      "needs_background": "light"
     },
     "output_type": "display_data"
    }
   ],
   "source": [
    "plt.figure(figsize=(20,20))\n",
    "\n",
    "buffer = 0.2\n",
    "xlim = ([gdf_within.total_bounds[0]-buffer,  gdf_within.total_bounds[2]+buffer])\n",
    "ylim = ([gdf_within.total_bounds[1]-buffer,  gdf_within.total_bounds[3]+buffer])\n",
    "\n",
    "plt.gca().set_xlim(xlim)\n",
    "plt.gca().set_ylim(ylim)\n",
    "\n",
    "gdf_within.plot(ax=plt.gca(), column=gdf_within.index.values, cmap='jet', edgecolor='k')\n",
    "gdf_s2.loc[gdf_within.index_right].plot(ax=plt.gca(), edgecolor='k', alpha=0.1)"
   ]
  },
  {
   "cell_type": "code",
   "execution_count": 15,
   "metadata": {},
   "outputs": [],
   "source": [
    "# convert columns to datetime if possible\n",
    "for col in gdf_within:\n",
    "    try:\n",
    "        gdf_within[col] = pd.to_datetime(gdf_within[col])\n",
    "    except:\n",
    "        pass"
   ]
  },
  {
   "cell_type": "code",
   "execution_count": 16,
   "metadata": {},
   "outputs": [
    {
     "data": {
      "image/png": "[encoded data removed]",
      "text/plain": [
       "<Figure size 1440x360 with 1 Axes>"
      ]
     },
     "metadata": {
      "needs_background": "light"
     },
     "output_type": "display_data"
    }
   ],
   "source": [
    "plt.figure(figsize=(20,5))\n",
    "\n",
    "# plot S2A and S2B with different colours\n",
    "for sat in gdf_within.satellite.unique():\n",
    "    plt.scatter(gdf_within[gdf_within.satellite==sat].ObservationTimeStart, \n",
    "                gdf_within[gdf_within.satellite==sat]['Name_left'])\n",
    "\n",
    "plt.gcf().autofmt_xdate()\n",
    "\n",
    "plt.gca().xaxis.set_major_locator(mdates.DayLocator(interval=1))\n",
    "plt.gca().xaxis.set_major_formatter(mdates.DateFormatter('%Y-%m-%d'))"
   ]
  },
  {
   "cell_type": "code",
   "execution_count": 17,
   "metadata": {},
   "outputs": [
    {
     "data": {
      "text/html": [
       "<div>\n",
       "<style scoped>\n",
       "    .dataframe tbody tr th:only-of-type {\n",
       "        vertical-align: middle;\n",
       "    }\n",
       "\n",
       "    .dataframe tbody tr th {\n",
       "        vertical-align: top;\n",
       "    }\n",
       "\n",
       "    .dataframe thead th {\n",
       "        text-align: right;\n",
       "    }\n",
       "</style>\n",
       "<table border=\"1\" class=\"dataframe\">\n",
       "  <thead>\n",
       "    <tr style=\"text-align: right;\">\n",
       "      <th></th>\n",
       "      <th>satellite</th>\n",
       "      <th>OrbitRelative</th>\n",
       "      <th>ObservationTimeStart</th>\n",
       "    </tr>\n",
       "  </thead>\n",
       "  <tbody>\n",
       "    <tr>\n",
       "      <th>0</th>\n",
       "      <td>s2a</td>\n",
       "      <td>95</td>\n",
       "      <td>2021-06-17T12:36:52.628</td>\n",
       "    </tr>\n",
       "    <tr>\n",
       "      <th>5</th>\n",
       "      <td>s2a</td>\n",
       "      <td>96</td>\n",
       "      <td>2021-06-17T14:17:33.425</td>\n",
       "    </tr>\n",
       "    <tr>\n",
       "      <th>9</th>\n",
       "      <td>s2a</td>\n",
       "      <td>97</td>\n",
       "      <td>2021-06-17T15:58:58.315</td>\n",
       "    </tr>\n",
       "    <tr>\n",
       "      <th>11</th>\n",
       "      <td>s2a</td>\n",
       "      <td>98</td>\n",
       "      <td>2021-06-17T17:38:58.132</td>\n",
       "    </tr>\n",
       "    <tr>\n",
       "      <th>13</th>\n",
       "      <td>s2a</td>\n",
       "      <td>99</td>\n",
       "      <td>2021-06-17T19:19:05.298</td>\n",
       "    </tr>\n",
       "    <tr>\n",
       "      <th>...</th>\n",
       "      <td>...</td>\n",
       "      <td>...</td>\n",
       "      <td>...</td>\n",
       "    </tr>\n",
       "    <tr>\n",
       "      <th>438</th>\n",
       "      <td>s2b</td>\n",
       "      <td>118</td>\n",
       "      <td>2021-07-04T03:15:34.546</td>\n",
       "    </tr>\n",
       "    <tr>\n",
       "      <th>439</th>\n",
       "      <td>s2b</td>\n",
       "      <td>119</td>\n",
       "      <td>2021-07-04T04:56:51.588</td>\n",
       "    </tr>\n",
       "    <tr>\n",
       "      <th>441</th>\n",
       "      <td>s2b</td>\n",
       "      <td>120</td>\n",
       "      <td>2021-07-04T06:36:20.814</td>\n",
       "    </tr>\n",
       "    <tr>\n",
       "      <th>443</th>\n",
       "      <td>s2b</td>\n",
       "      <td>121</td>\n",
       "      <td>2021-07-04T08:15:58.053</td>\n",
       "    </tr>\n",
       "    <tr>\n",
       "      <th>444</th>\n",
       "      <td>s2b</td>\n",
       "      <td>122</td>\n",
       "      <td>2021-07-04T09:55:45.550</td>\n",
       "    </tr>\n",
       "  </tbody>\n",
       "</table>\n",
       "<p>286 rows × 3 columns</p>\n",
       "</div>"
      ],
      "text/plain": [
       "    satellite OrbitRelative     ObservationTimeStart\n",
       "0         s2a            95  2021-06-17T12:36:52.628\n",
       "5         s2a            96  2021-06-17T14:17:33.425\n",
       "9         s2a            97  2021-06-17T15:58:58.315\n",
       "11        s2a            98  2021-06-17T17:38:58.132\n",
       "13        s2a            99  2021-06-17T19:19:05.298\n",
       "..        ...           ...                      ...\n",
       "438       s2b           118  2021-07-04T03:15:34.546\n",
       "439       s2b           119  2021-07-04T04:56:51.588\n",
       "441       s2b           120  2021-07-04T06:36:20.814\n",
       "443       s2b           121  2021-07-04T08:15:58.053\n",
       "444       s2b           122  2021-07-04T09:55:45.550\n",
       "\n",
       "[286 rows x 3 columns]"
      ]
     },
     "execution_count": 17,
     "metadata": {},
     "output_type": "execute_result"
    }
   ],
   "source": [
    "# get the first occurrence of each OrbitRelative (analagous to L8 path)\n",
    "df_s2acq = (gdf_s2[['satellite','OrbitRelative','ObservationTimeStart']]\n",
    "            .sort_values('ObservationTimeStart')\n",
    "            .drop_duplicates(['satellite','OrbitRelative']))\n",
    "df_s2acq"
   ]
  },
  {
   "cell_type": "markdown",
   "metadata": {},
   "source": [
    "## Landsat 8\n",
    "\n",
    "Use the descending (daytime) path-row shapes from USGS to determine which path-row each target falls into.\n",
    "\n",
    "Use the calendar on https://landsat.usgs.gov/landsat_acq#pendingAcquisition to find upcoming acquisitions for these path-rows.\n",
    "\n",
    "Use the 16 day repeat to predict?\n",
    "\n",
    "Can check passover times and altitudes using: https://www.heavens-above.com/PassSummary.aspx?satid=39084&lat=50.418547&lng=-122.603491&loc=Unnamed&alt=0&tz=PST&showall=t"
   ]
  },
  {
   "cell_type": "code",
   "execution_count": 18,
   "metadata": {},
   "outputs": [],
   "source": [
    "# load path-rows\n",
    "gdf_l8_pr = gpd.read_file('./L8_path_rows_descending_(daytime)/WRS2_descending.shp')"
   ]
  },
  {
   "cell_type": "code",
   "execution_count": 19,
   "metadata": {},
   "outputs": [],
   "source": [
    "# join with target shapes\n",
    "gdf_l8_within = gpd.sjoin(gdf_targets, gdf_l8_pr, op='within')"
   ]
  },
  {
   "cell_type": "code",
   "execution_count": 20,
   "metadata": {},
   "outputs": [
    {
     "data": {
      "text/plain": [
       "<AxesSubplot:>"
      ]
     },
     "execution_count": 20,
     "metadata": {},
     "output_type": "execute_result"
    },
    {
     "data": {
      "image/png": "[encoded data removed]",
      "text/plain": [
       "<Figure size 1440x1440 with 1 Axes>"
      ]
     },
     "metadata": {
      "needs_background": "light"
     },
     "output_type": "display_data"
    }
   ],
   "source": [
    "plt.figure(figsize=(20,20))\n",
    "\n",
    "buffer = 0.2\n",
    "xlim = ([gdf_l8_within.total_bounds[0]-buffer,  gdf_l8_within.total_bounds[2]+buffer])\n",
    "ylim = ([gdf_l8_within.total_bounds[1]-buffer,  gdf_l8_within.total_bounds[3]+buffer])\n",
    "\n",
    "plt.gca().set_xlim(xlim)\n",
    "plt.gca().set_ylim(ylim)\n",
    "\n",
    "gdf_l8_within.plot(ax=plt.gca(), column=gdf_l8_within.index.values, cmap='jet', edgecolor='k')\n",
    "gdf_l8_pr.loc[gdf_l8_within.index_right].plot(ax=plt.gca(), edgecolor='k', alpha=0.1)"
   ]
  },
  {
   "cell_type": "code",
   "execution_count": 21,
   "metadata": {},
   "outputs": [
    {
     "data": {
      "text/html": [
       "<div>\n",
       "<style scoped>\n",
       "    .dataframe tbody tr th:only-of-type {\n",
       "        vertical-align: middle;\n",
       "    }\n",
       "\n",
       "    .dataframe tbody tr th {\n",
       "        vertical-align: top;\n",
       "    }\n",
       "\n",
       "    .dataframe thead th {\n",
       "        text-align: right;\n",
       "    }\n",
       "</style>\n",
       "<table border=\"1\" class=\"dataframe\">\n",
       "  <thead>\n",
       "    <tr style=\"text-align: right;\">\n",
       "      <th></th>\n",
       "      <th>Name</th>\n",
       "      <th>PATH</th>\n",
       "      <th>ROW</th>\n",
       "      <th>ACQDayL8</th>\n",
       "    </tr>\n",
       "  </thead>\n",
       "  <tbody>\n",
       "    <tr>\n",
       "      <th>0</th>\n",
       "      <td>Peyto</td>\n",
       "      <td>43</td>\n",
       "      <td>24</td>\n",
       "      <td>11</td>\n",
       "    </tr>\n",
       "    <tr>\n",
       "      <th>0</th>\n",
       "      <td>Peyto</td>\n",
       "      <td>44</td>\n",
       "      <td>24</td>\n",
       "      <td>2</td>\n",
       "    </tr>\n",
       "    <tr>\n",
       "      <th>1</th>\n",
       "      <td>Columbia</td>\n",
       "      <td>44</td>\n",
       "      <td>24</td>\n",
       "      <td>2</td>\n",
       "    </tr>\n",
       "    <tr>\n",
       "      <th>1</th>\n",
       "      <td>Columbia</td>\n",
       "      <td>45</td>\n",
       "      <td>24</td>\n",
       "      <td>9</td>\n",
       "    </tr>\n",
       "    <tr>\n",
       "      <th>2</th>\n",
       "      <td>Place</td>\n",
       "      <td>48</td>\n",
       "      <td>25</td>\n",
       "      <td>14</td>\n",
       "    </tr>\n",
       "    <tr>\n",
       "      <th>2</th>\n",
       "      <td>Place</td>\n",
       "      <td>47</td>\n",
       "      <td>25</td>\n",
       "      <td>7</td>\n",
       "    </tr>\n",
       "    <tr>\n",
       "      <th>3</th>\n",
       "      <td>Klinaklini</td>\n",
       "      <td>50</td>\n",
       "      <td>24</td>\n",
       "      <td>12</td>\n",
       "    </tr>\n",
       "    <tr>\n",
       "      <th>3</th>\n",
       "      <td>Klinaklini</td>\n",
       "      <td>49</td>\n",
       "      <td>24</td>\n",
       "      <td>5</td>\n",
       "    </tr>\n",
       "  </tbody>\n",
       "</table>\n",
       "</div>"
      ],
      "text/plain": [
       "         Name  PATH  ROW ACQDayL8\n",
       "0       Peyto    43   24       11\n",
       "0       Peyto    44   24        2\n",
       "1    Columbia    44   24        2\n",
       "1    Columbia    45   24        9\n",
       "2       Place    48   25       14\n",
       "2       Place    47   25        7\n",
       "3  Klinaklini    50   24       12\n",
       "3  Klinaklini    49   24        5"
      ]
     },
     "execution_count": 21,
     "metadata": {},
     "output_type": "execute_result"
    }
   ],
   "source": [
    "gdf_l8_within[['Name','PATH','ROW','ACQDayL8']]"
   ]
  },
  {
   "cell_type": "code",
   "execution_count": 22,
   "metadata": {},
   "outputs": [],
   "source": [
    "# calculate repeat assuming 16 day cycle and a \"day 1\"\n",
    "# set passover time as 4am UTC / 12pm PST\n",
    "day1 = pd.to_datetime(\"4th Mar 2021\")\n",
    "gdf_l8_within['first_obs'] = gdf_l8_within.ACQDayL8.apply(lambda x: timedelta(days=int(x)) + day1 - timedelta(hours=4))"
   ]
  },
  {
   "cell_type": "markdown",
   "metadata": {},
   "source": [
    "## PRISMA\n",
    "\n",
    "Can get rough overpass times using \n",
    "\n",
    "- Columbia: \n",
    "    - https://www.heavens-above.com/PassSummary.aspx?satid=44072&lat=52.152000&lng=-117.350000&loc=Unnamed&alt=0&tz=GMT&showall=t\n",
    "- Place: \n",
    "    - https://www.heavens-above.com/PassSummary.aspx?satid=44072&lat=50.418547&lng=-122.603491&loc=Unnamed&alt=0&tz=GMT&showall=t\n",
    "- Klinaklini: \n",
    "    - https://www.heavens-above.com/PassSummary.aspx?satid=44072&lat=51.500000&lng=-125.970000&loc=Unnamed&alt=0&tz=GMT&showall=t\n",
    "- Peyto: \n",
    "    - https://www.heavens-above.com/PassSummary.aspx?satid=44072&lat=51.650000&lng=-116.550000&loc=Unnamed&alt=0&tz=GMT&showall=t\n",
    "\n",
    "Copy the tables from these webpages into a local excel file, with one tab per target.\n",
    "\n",
    "Keep in mind the perigree height of PRISMA is 615km, so a 30km wide image subtends around 3deg, which should be included when filtering the PRISMA passover altitude to match the acquisition min/max inclination."
   ]
  },
  {
   "cell_type": "code",
   "execution_count": 23,
   "metadata": {},
   "outputs": [
    {
     "data": {
      "text/plain": [
       "71.86240522611175"
      ]
     },
     "execution_count": 23,
     "metadata": {},
     "output_type": "execute_result"
    }
   ],
   "source": [
    "# calculate minimum passover altitude for viable acquisition\n",
    "inclination_max = 21\n",
    "img_width = 30\n",
    "prisma_height = 600\n",
    "prisma_img_angle = np.arctan(img_width / prisma_height) / np.pi * 180\n",
    "altitude_min = 90 - inclination_max + prisma_img_angle\n",
    "altitude_min"
   ]
  },
  {
   "cell_type": "code",
   "execution_count": 98,
   "metadata": {},
   "outputs": [],
   "source": [
    "# load excel sheets\n",
    "df_prisma_ls = []\n",
    "\n",
    "for name in gdf_targets.Name:\n",
    "    df_prisma_hold = pd.read_excel(\"PRISMA_passover_times.xls\", \n",
    "                                   sheet_name=name, skiprows=1)\n",
    "    df_prisma_hold[\"target\"] = name\n",
    "    df_prisma_ls += [df_prisma_hold]\n",
    "    \n",
    "df_prisma = pd.concat(df_prisma_ls, ignore_index=True)\n",
    "\n",
    "# keep only daylight passovers\n",
    "df_prisma = df_prisma[df_prisma[\"Unnamed: 11\"]=='daylight']\n",
    "\n",
    "# keep only relevant columns and rename\n",
    "prisma_cols = {\"Unnamed: 0\":\"date\", \n",
    "               \"Time.1\":\"time\", \n",
    "               \"Alt..1\":\"altitude\", \n",
    "               \"Az..1\":\"azimuth\", \n",
    "               \"target\":\"target\"}\n",
    "df_prisma = df_prisma[prisma_cols.keys()]\n",
    "df_prisma = df_prisma.rename(columns=prisma_cols)\n",
    "\n",
    "# combine date and time\n",
    "year = 2021\n",
    "df_prisma['datetime'] = ((df_prisma.date.astype(str) + str(year) + df_prisma.time.astype(str))\n",
    "                         .apply(lambda t: dt.datetime.strptime(t, \"%d %b%Y%H:%M:%S\")))\n",
    "df_prisma['datetime'] = pd.to_datetime(df_prisma['datetime'])\n",
    "\n",
    "# get start and end of PRISMA acquisition dates\n",
    "prisma_start = df_prisma.datetime.min().date()\n",
    "prisma_end = df_prisma.datetime.max().date()\n",
    "\n",
    "# convert altitude to numeric\n",
    "df_prisma['altitude'] = df_prisma.altitude.str[:-1].astype(float)"
   ]
  },
  {
   "cell_type": "code",
   "execution_count": 99,
   "metadata": {},
   "outputs": [
    {
     "data": {
      "image/png": "[encoded data removed]",
      "text/plain": [
       "<Figure size 1440x360 with 1 Axes>"
      ]
     },
     "metadata": {
      "needs_background": "light"
     },
     "output_type": "display_data"
    }
   ],
   "source": [
    "plt.figure(figsize=(20,5))\n",
    "\n",
    "# plot S2A and S2B with different colours\n",
    "for target in df_prisma.target.unique():\n",
    "    df_plot = df_prisma[(df_prisma.target==target) & (df_prisma.altitude>=altitude_min)]\n",
    "    plt.scatter(df_plot.datetime, df_plot.altitude, label=target)\n",
    "\n",
    "plt.setp( plt.gca().xaxis.get_majorticklabels(), rotation=-45, ha=\"left\", rotation_mode=\"anchor\")\n",
    "plt.gca().xaxis.set_major_locator(mdates.DayLocator(interval=1))\n",
    "plt.gca().xaxis.set_major_formatter(mdates.DateFormatter('%Y-%m-%d'))\n",
    "#plt.gca().set_xlim([pd.to_datetime(\"2021/03/19\"), pd.to_datetime(\"2021/04/19\")])\n",
    "plt.legend(); plt.gca().set_ylim([0,90]); plt.show()"
   ]
  },
  {
   "cell_type": "markdown",
   "metadata": {},
   "source": [
    "## Targeting dates"
   ]
  },
  {
   "cell_type": "code",
   "execution_count": 68,
   "metadata": {},
   "outputs": [],
   "source": [
    "# dataframe to hold passover times for each satellite/target combo\n",
    "df_dates = pd.DataFrame(columns=pd.MultiIndex.from_product([gdf_targets.Name, ['s2a', 's2b', 'l8']], \n",
    "                                                           names=[\"target\", \"satellite\"]), index=[0])"
   ]
  },
  {
   "cell_type": "code",
   "execution_count": 69,
   "metadata": {},
   "outputs": [],
   "source": [
    "# functions to create S2 and L8 acquisition dates assuming fixed repeat times\n",
    "def s2_acq_dates(target, sat):\n",
    "    orbit_relatives = gdf_within[(gdf_within.Name_left==target) & (gdf_within.satellite==sat)]\n",
    "    orbit_relatives = orbit_relatives.OrbitRelative.unique()\n",
    "#     print(len(orbit_relatives))\n",
    "    \n",
    "    dates_ls = []\n",
    "    \n",
    "    for orbit_relative in orbit_relatives:\n",
    "#         print(orbit_relative)\n",
    "        first_obs = df_s2acq[(df_s2acq.satellite==sat) & (df_s2acq.OrbitRelative==orbit_relative)]\n",
    "        first_obs = first_obs.ObservationTimeStart.values[0]\n",
    "#         print(first_obs)\n",
    "        \n",
    "        dates_ls += [pd.Series(pd.date_range(first_obs, pd.to_datetime('15th Sept 2021'), freq='10D'))]\n",
    "#         print(dates_ls)\n",
    "        \n",
    "    dates = pd.concat(dates_ls, ignore_index=True).sort_values().reset_index(drop=True)\n",
    "    \n",
    "    return dates\n",
    "\n",
    "def l8_acq_dates(target):\n",
    "    first_obss = gdf_l8_within[gdf_l8_within.Name==target].first_obs\n",
    "    \n",
    "    dates_ls = []\n",
    "    for first_obs in first_obss:\n",
    "        dates_ls += [pd.Series(pd.date_range(first_obs, pd.to_datetime('15th Sept 2021'), freq='16D'))]\n",
    "        \n",
    "    dates = pd.concat(dates_ls, ignore_index=True).sort_values().reset_index(drop=True)\n",
    "    \n",
    "    return dates"
   ]
  },
  {
   "cell_type": "code",
   "execution_count": 70,
   "metadata": {},
   "outputs": [],
   "source": [
    "# convert date-like fields to datetime\n",
    "for (target, sat) in df_dates.columns:\n",
    "    if sat != 'l8':\n",
    "        df_dates[target, sat].at[0] = s2_acq_dates(target, sat)\n",
    "    if sat == 'l8':\n",
    "        df_dates[target, sat].at[0] = l8_acq_dates(target)"
   ]
  },
  {
   "cell_type": "code",
   "execution_count": 100,
   "metadata": {},
   "outputs": [
    {
     "data": {
      "image/png": "[encoded data removed]",
      "text/plain": [
       "<Figure size 1440x360 with 1 Axes>"
      ]
     },
     "metadata": {
      "needs_background": "light"
     },
     "output_type": "display_data"
    }
   ],
   "source": [
    "plt.figure(figsize=(20,5))\n",
    "\n",
    "colours = {'s2a':'b', 's2b':'b', 'l8':'g'}\n",
    "\n",
    "for i, (target, sat) in enumerate(df_dates.columns):\n",
    "    # plot prisma passovers\n",
    "    df_prisma_target = df_prisma[(df_prisma.target==target) & \n",
    "                                 (df_prisma.altitude>=altitude_min)]\n",
    "    plt.scatter(df_prisma_target.datetime-dt.timedelta(hours=8), df_prisma_target.target,\n",
    "                label=('PRISMA' if i == 0 else None), c='r', s=100, alpha=0.2)\n",
    "    \n",
    "    # plot other satellite passovers\n",
    "    dates = df_dates[(target, sat)].iloc[0]\n",
    "    plt.scatter(dates-dt.timedelta(hours=8), [target]*len(dates), c=colours.get(sat), s=200, alpha=0.2,\n",
    "                marker='s' if sat == 's2a' else None,\n",
    "                label=(sat.upper() if i < 3 else None))\n",
    "    \n",
    "plt.gca().set_xlim([prisma_start, prisma_end])\n",
    "plt.setp( plt.gca().xaxis.get_majorticklabels(), rotation=-45, ha=\"left\", rotation_mode=\"anchor\")\n",
    "plt.gca().xaxis.set_major_locator(mdates.DayLocator(interval=1))\n",
    "plt.gca().xaxis.set_major_formatter(mdates.DateFormatter('%m-%d'))\n",
    "plt.legend()\n",
    "plt.grid(True)"
   ]
  },
  {
   "cell_type": "code",
   "execution_count": 101,
   "metadata": {},
   "outputs": [],
   "source": [
    "# create target-satellite vs. PST date table\n",
    "df_acq = pd.DataFrame(columns=pd.MultiIndex.from_product([gdf_targets.Name,\n",
    "                                                         ['s2', 'l8', 'PRISMA']]),\n",
    "                     index=pd.date_range(prisma_start, end=prisma_end, freq='D'))"
   ]
  },
  {
   "cell_type": "code",
   "execution_count": 102,
   "metadata": {},
   "outputs": [],
   "source": [
    "# functions to check for acquisitions on a given date for a given target (PST!)\n",
    "def check_date_prisma(date, target):\n",
    "    df_prisma_target = df_prisma[(df_prisma.target==target) & \n",
    "                                 (df_prisma.altitude>=altitude_min)]\n",
    "    prisma_target_dates = df_prisma_target.datetime - dt.timedelta(hours=8)\n",
    "    return (date.date() == prisma_target_dates.dt.date).any()\n",
    "\n",
    "def check_date_L8(date, target):\n",
    "    dates = df_dates[(target, 'l8')].iloc[0]  - dt.timedelta(hours=8)\n",
    "    return (date.date() == dates.dt.date).any()\n",
    "\n",
    "def check_date_S2(date, target):\n",
    "    dates = pd.concat([df_dates[(target, 's2a')].iloc[0],\n",
    "                       df_dates[(target, 's2b')].iloc[0]])  - dt.timedelta(hours=8)\n",
    "    return (date.date() == dates.dt.date).any()\n",
    "\n",
    "sat2func = {\"PRISMA\":check_date_prisma,\n",
    "           \"l8\":check_date_L8,\n",
    "           \"s2\":check_date_S2}"
   ]
  },
  {
   "cell_type": "code",
   "execution_count": 103,
   "metadata": {},
   "outputs": [],
   "source": [
    "# find acquisition dates for all satellites\n",
    "for (target, sat) in df_acq.columns:\n",
    "    df_acq[(target, sat)] = (pd.Series(df_acq.index, index=df_acq.index)\n",
    "                             .apply(lambda date: sat2func.get(sat)(date, target)))"
   ]
  },
  {
   "cell_type": "code",
   "execution_count": 104,
   "metadata": {},
   "outputs": [],
   "source": [
    "# find which dates have a PRISMA acquisition AND (S2 OR L8)\n",
    "for target in df_acq.columns.levels[0]:\n",
    "    df_acq[(target, \"acquire\")] = df_acq[(target, \"PRISMA\")] & (df_acq[(target, \"s2\")] | df_acq[(target, \"l8\")])"
   ]
  },
  {
   "cell_type": "code",
   "execution_count": 106,
   "metadata": {},
   "outputs": [],
   "source": [
    "# filter to the dates we have at least one coincident acquisition\n",
    "df_acq = df_acq[df_acq.xs('acquire', axis=1, level=1, drop_level=False).any(axis=1)]"
   ]
  },
  {
   "cell_type": "code",
   "execution_count": 128,
   "metadata": {},
   "outputs": [
    {
     "name": "stdout",
     "output_type": "stream",
     "text": [
      "\n",
      " Columbia\n",
      "2021-07-06\n",
      "2021-07-11\n",
      "\n",
      " Klinaklini\n",
      "2021-07-25\n",
      "2021-07-30\n",
      "\n",
      " Peyto\n",
      "2021-07-11\n",
      "2021-07-23\n",
      "2021-07-28\n",
      "\n",
      " Place\n",
      "2021-06-30\n",
      "2021-07-07\n",
      "2021-07-12\n",
      "2021-07-24\n",
      "2021-07-29\n"
     ]
    }
   ],
   "source": [
    "# get the dates to acquire for each target\n",
    "for target in df_acq.columns.levels[0]:\n",
    "    print(\"\\n\", target)\n",
    "    dates = list(df_acq[df_acq[(target,\"acquire\")]][(target,\"acquire\")].index.date)\n",
    "    for date in dates:\n",
    "        print(date)"
   ]
  },
  {
   "cell_type": "code",
   "execution_count": 108,
   "metadata": {},
   "outputs": [
    {
     "data": {
      "text/html": [
       "<div>\n",
       "<style scoped>\n",
       "    .dataframe tbody tr th:only-of-type {\n",
       "        vertical-align: middle;\n",
       "    }\n",
       "\n",
       "    .dataframe tbody tr th {\n",
       "        vertical-align: top;\n",
       "    }\n",
       "\n",
       "    .dataframe thead th {\n",
       "        text-align: right;\n",
       "    }\n",
       "</style>\n",
       "<table border=\"1\" class=\"dataframe\">\n",
       "  <thead>\n",
       "    <tr style=\"text-align: right;\">\n",
       "      <th></th>\n",
       "      <th>Name</th>\n",
       "      <th>lon</th>\n",
       "      <th>lat</th>\n",
       "      <th>strip length [km]</th>\n",
       "      <th>Bbox</th>\n",
       "      <th>Unnamed: 5</th>\n",
       "      <th>Unnamed: 6</th>\n",
       "      <th>Unnamed: 7</th>\n",
       "      <th>geometry</th>\n",
       "    </tr>\n",
       "  </thead>\n",
       "  <tbody>\n",
       "    <tr>\n",
       "      <th>0</th>\n",
       "      <td>Peyto</td>\n",
       "      <td>-116.550000</td>\n",
       "      <td>51.650000</td>\n",
       "      <td>30</td>\n",
       "      <td>NaN</td>\n",
       "      <td>NaN</td>\n",
       "      <td>NaN</td>\n",
       "      <td>NaN</td>\n",
       "      <td>POINT (-116.55000 51.65000)</td>\n",
       "    </tr>\n",
       "    <tr>\n",
       "      <th>1</th>\n",
       "      <td>Columbia</td>\n",
       "      <td>-117.350000</td>\n",
       "      <td>52.152000</td>\n",
       "      <td>30</td>\n",
       "      <td>52.27587</td>\n",
       "      <td>-117.56945</td>\n",
       "      <td>52.01726</td>\n",
       "      <td>-117.14901</td>\n",
       "      <td>POINT (-117.35000 52.15200)</td>\n",
       "    </tr>\n",
       "    <tr>\n",
       "      <th>2</th>\n",
       "      <td>Klinaklini</td>\n",
       "      <td>-125.970000</td>\n",
       "      <td>51.500000</td>\n",
       "      <td>60</td>\n",
       "      <td>51.65126</td>\n",
       "      <td>-126.18150</td>\n",
       "      <td>51.31000</td>\n",
       "      <td>-125.74450</td>\n",
       "      <td>POINT (-125.97000 51.50000)</td>\n",
       "    </tr>\n",
       "    <tr>\n",
       "      <th>3</th>\n",
       "      <td>Place</td>\n",
       "      <td>-122.603491</td>\n",
       "      <td>50.418547</td>\n",
       "      <td>30</td>\n",
       "      <td>NaN</td>\n",
       "      <td>NaN</td>\n",
       "      <td>NaN</td>\n",
       "      <td>NaN</td>\n",
       "      <td>POINT (-122.60349 50.41855)</td>\n",
       "    </tr>\n",
       "  </tbody>\n",
       "</table>\n",
       "</div>"
      ],
      "text/plain": [
       "         Name         lon        lat  strip length [km]      Bbox  Unnamed: 5  \\\n",
       "0       Peyto -116.550000  51.650000                 30       NaN         NaN   \n",
       "1    Columbia -117.350000  52.152000                 30  52.27587  -117.56945   \n",
       "2  Klinaklini -125.970000  51.500000                 60  51.65126  -126.18150   \n",
       "3       Place -122.603491  50.418547                 30       NaN         NaN   \n",
       "\n",
       "   Unnamed: 6  Unnamed: 7                     geometry  \n",
       "0         NaN         NaN  POINT (-116.55000 51.65000)  \n",
       "1    52.01726  -117.14901  POINT (-117.35000 52.15200)  \n",
       "2    51.31000  -125.74450  POINT (-125.97000 51.50000)  \n",
       "3         NaN         NaN  POINT (-122.60349 50.41855)  "
      ]
     },
     "execution_count": 108,
     "metadata": {},
     "output_type": "execute_result"
    }
   ],
   "source": [
    "# show coordinates for ordering the acquisition\n",
    "# set max cloud cover to 10%\n",
    "# set max inclination to 21deg\n",
    "# set max sun zenith angle to 70\n",
    "# order at https://prisma.asi.it/\n",
    "df_targets_lls"
   ]
  },
  {
   "cell_type": "code",
   "execution_count": null,
   "metadata": {},
   "outputs": [],
   "source": []
  }
 ],
 "metadata": {
  "kernelspec": {
   "display_name": "Python [conda env:geo]",
   "language": "python",
   "name": "conda-env-geo-py"
  },
  "language_info": {
   "codemirror_mode": {
    "name": "ipython",
    "version": 3
   },
   "file_extension": ".py",
   "mimetype": "text/x-python",
   "name": "python",
   "nbconvert_exporter": "python",
   "pygments_lexer": "ipython3",
   "version": "3.8.10"
  },
  "toc-autonumbering": true,
  "toc-showcode": false,
  "toc-showmarkdowntxt": false
 },
 "nbformat": 4,
 "nbformat_minor": 4
}
